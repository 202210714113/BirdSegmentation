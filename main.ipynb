{
 "cells": [
  {
   "cell_type": "markdown",
   "metadata": {},
   "source": [
    "# 寻找被放走的鸽子"
   ]
  },
  {
   "cell_type": "markdown",
   "metadata": {},
   "source": [
    "本项目使用OCRNet实现了鸽子语义分割模型，各项指标如下：\n",
    "\n",
    "| 模型名称 | mIoU | Acc | Kappa | Dice |\n",
    "| -------- | -------- | -------- | -------- | -------- |\n",
    "| OCRNet     | 0.9156     | 0.9929     | 0.9085     | 0.9542     |\n",
    "\n",
    "整体的实现效果是不错的，另外本项目提供了一个Paddle-Inference-Demo供大家参考。"
   ]
  },
  {
   "cell_type": "markdown",
   "metadata": {},
   "source": [
    "## 一、项目背景"
   ]
  },
  {
   "cell_type": "markdown",
   "metadata": {},
   "source": [
    "对于语义分割任务来说，其两大关键是：分辨率和上下文。\n",
    "* 语义分割是一个密集像素预测任务，因此空间分辨率很重要。\n",
    "* 而像素本身不具备语义，它的语义由其图像整体或目标区域决定，因此它对上下文高度依赖，一个像素位置的上下文指的是它周围的像素位置。\n",
    "\n",
    "OCRNet论文的主要思想也就是像素的类别标签是由它所在的目标的类别标签决定的。主要思路是利用目标区域表示来增强其像素的表示。与之前的考虑上下文关系的方法不同的是，之前的方法考虑的是上下文像素之间的关系，没有显示利用目标区域的特征。\n",
    "\n",
    "![](https://ai-studio-static-online.cdn.bcebos.com/eab2c04820ee4df99b48e7a65b7cd5b579f6eaf18ce0401c94ca406466e19c31)\n",
    "\n",
    "其中，粉红色虚线框内为形成的软对象区域（Soft Object Regions），紫色虚线框中为物体区域表示（Object Region Representations），橙色虚线框中为对象上下文表示和增强表示。\n",
    "\n",
    "第一步： 将上下文像素划分为一组软对象区域，每个soft object regions对应一个类，即从深度网络(backbone)计算得到的粗软分割（粗略的语义分割结果）。这种划分是在ground-truth分割的监督下学习的。根据网络中间层的特征表示估测粗略的语义分割结果作为 OCR 方法的一个输入，即结构图中粉红色框内的Soft Object Regions。\n",
    "\n",
    "第二步： 根据粗略的语义分割结果（soft object regions）和网络最深层输出的像素特征（Pixel Representations）表示计算出 K 组向量，即物体区域表示（Object Region Representations），其中每一个向量对应一个语义类别的特征表示。\n",
    "\n",
    "第三步： 这一步可以再细分为两个步骤。\n",
    "\n",
    "1. 计算网络最深层输出的像素特征表示（Pixel Representations）与计算得到的物体区域特征表示（Object Region Representation）之间的关系矩阵，然后根据每个像素和物体区域特征表示在关系矩阵中的数值把物体区域特征加权求和，得到最后的物体上下文特征表示 (Object Contextual Representation)，即OCR 。\n",
    "2. 当把物体上下文特征表示 OCR 与网络最深层输入的特征表示拼接之后作为上下文信息增强的特征表示（Augmented Representation），可以基于增强后的特征表示预测每个像素的语义类别。"
   ]
  },
  {
   "cell_type": "markdown",
   "metadata": {},
   "source": [
    "## 二、数据集简介"
   ]
  },
  {
   "cell_type": "markdown",
   "metadata": {},
   "source": [
    "该数据集由124张鸽子图片及其标注图组成，现已在AI Studio上开源。[链接](https://aistudio.baidu.com/aistudio/datasetdetail/75217)\n",
    "\n",
    "![](https://ai-studio-static-online.cdn.bcebos.com/b568917bdad84371bb32e9a15d7a78f34f49a15f2f1e45a1ada6c242158892b2)"
   ]
  },
  {
   "cell_type": "markdown",
   "metadata": {},
   "source": [
    "## 三、数据预处理"
   ]
  },
  {
   "cell_type": "markdown",
   "metadata": {},
   "source": [
    "**Step01：** 解压数据集"
   ]
  },
  {
   "cell_type": "code",
   "execution_count": null,
   "metadata": {
    "scrolled": true,
    "tags": []
   },
   "outputs": [],
   "source": [
    "!unzip /home/aistudio/data/data75217/doves.zip -d /home/aistudio/work/doves/"
   ]
  },
  {
   "cell_type": "markdown",
   "metadata": {},
   "source": [
    "**Step02：** 将原图和标注图分隔开。"
   ]
  },
  {
   "cell_type": "markdown",
   "metadata": {},
   "source": [
    "在/home/aistudio/work/data目录下新建images和labels文件夹。\n",
    "* images：原始图像。\n",
    "* labels：标注文件。"
   ]
  },
  {
   "cell_type": "code",
   "execution_count": null,
   "metadata": {
    "scrolled": true,
    "tags": []
   },
   "outputs": [],
   "source": [
    "import os\n",
    "import random\n",
    "import cv2\n",
    "\n",
    "def get_images(image_dir):\n",
    "    \"\"\"\n",
    "    取出数据集中的原图和标签图，并重新写入新的文件夹\n",
    "    \"\"\"\n",
    "    images = []\n",
    "    labels = []\n",
    "\n",
    "    for image_name in os.listdir(image_dir):\n",
    "        if os.path.isdir(os.path.join(image_dir, image_name)):\n",
    "            img = cv2.imread(os.path.join(os.path.join(image_dir, image_name), 'img.png'))\n",
    "            cv2.imwrite(\"/home/aistudio/work/data/images/\" + image_name + '.png', img)\n",
    "            print(\"/home/aistudio/work/data/images/\" + image_name + '.png')\n",
    "            label = cv2.imread(os.path.join(os.path.join(image_dir, image_name), 'label.png'))\n",
    "            cv2.imwrite(\"/home/aistudio/work/data/labels/\" + image_name + '.png', label)\n",
    "            print(\"/home/aistudio/work/data/labels/\" + image_name + '.png')\n",
    "\n",
    "if __name__ == \"__main__\":\n",
    "        get_images(\"/home/aistudio/work/doves\")"
   ]
  },
  {
   "cell_type": "markdown",
   "metadata": {},
   "source": [
    "## 四、代码实现"
   ]
  },
  {
   "cell_type": "markdown",
   "metadata": {},
   "source": [
    "### 4.1 环境配置"
   ]
  },
  {
   "cell_type": "markdown",
   "metadata": {},
   "source": [
    "从Github下载PaddleSeg代码。"
   ]
  },
  {
   "cell_type": "code",
   "execution_count": null,
   "metadata": {
    "scrolled": true,
    "tags": []
   },
   "outputs": [],
   "source": [
    "#!git clone https://github.com/PaddlePaddle/PaddleSeg"
   ]
  },
  {
   "cell_type": "markdown",
   "metadata": {},
   "source": [
    "执行如下命令，从源码编译安装PaddleSeg包。大家对于PaddleSeg/paddleseg目录下的修改，都会立即生效，无需重新安装。"
   ]
  },
  {
   "cell_type": "code",
   "execution_count": null,
   "metadata": {
    "scrolled": true,
    "tags": []
   },
   "outputs": [],
   "source": [
    "%cd /home/aistudio/PaddleSeg/\n",
    "!pip install -r requirements.txt --user\n",
    "!pip install -v -e ."
   ]
  },
  {
   "cell_type": "markdown",
   "metadata": {},
   "source": [
    "### 4.2 数据准备"
   ]
  },
  {
   "cell_type": "markdown",
   "metadata": {},
   "source": [
    "**Step01：** 将数据集移动到/home/aistudio/PaddleSeg/data目录下。"
   ]
  },
  {
   "cell_type": "code",
   "execution_count": 18,
   "metadata": {
    "execution": {
     "iopub.execute_input": "2023-03-22T01:49:26.092478Z",
     "iopub.status.busy": "2023-03-22T01:49:26.091602Z",
     "iopub.status.idle": "2023-03-22T01:49:26.328930Z",
     "shell.execute_reply": "2023-03-22T01:49:26.327558Z",
     "shell.execute_reply.started": "2023-03-22T01:49:26.092434Z"
    },
    "scrolled": true
   },
   "outputs": [],
   "source": [
    "!mv /home/aistudio/work/data /home/aistudio/PaddleSeg/data/"
   ]
  },
  {
   "cell_type": "markdown",
   "metadata": {},
   "source": [
    "**Step02：** 切分数据。"
   ]
  },
  {
   "cell_type": "code",
   "execution_count": null,
   "metadata": {
    "scrolled": true,
    "tags": []
   },
   "outputs": [],
   "source": [
    "!python tools/data/split_dataset_list.py /home/aistudio/PaddleSeg/data/data images labels --split 0.85 0.15 0 --format png png"
   ]
  },
  {
   "cell_type": "markdown",
   "metadata": {},
   "source": [
    "### 4.3 模型训练"
   ]
  },
  {
   "cell_type": "markdown",
   "metadata": {},
   "source": [
    "**Step01：** 图像尺寸分析"
   ]
  },
  {
   "cell_type": "markdown",
   "metadata": {},
   "source": [
    "通过图像分析，我们可以看到数据集中只有1种不同的尺寸，是[3024, 4032]。"
   ]
  },
  {
   "cell_type": "code",
   "execution_count": null,
   "metadata": {
    "scrolled": true,
    "tags": []
   },
   "outputs": [],
   "source": [
    "def Image_size(indir):\n",
    "    width_heights = []\n",
    "    for img in os.listdir(indir):\n",
    "        img = cv2.imread(indir + img)\n",
    "        width = img.shape[0]\n",
    "        height = img.shape[1]\n",
    "        if [width, height] not in width_heights: width_heights.append([width, height])\n",
    "    print(\"数据集中，有{}种不同的尺寸，分别是：\".format(len(width_heights)))\n",
    "    for item in width_heights:\n",
    "        print(item)\n",
    "\n",
    "indir='/home/aistudio/PaddleSeg/data/data/images/'   # xml文件所在的目录\n",
    "Image_size(indir)"
   ]
  },
  {
   "cell_type": "markdown",
   "metadata": {},
   "source": [
    "**Step02：** 单卡训练"
   ]
  },
  {
   "cell_type": "markdown",
   "metadata": {},
   "source": [
    "**ERROR1:** 标注图是彩色标注图，而不是灰度标注图。\n",
    "```\n",
    "ValueError: (InvalidArgument) If Attr(soft_label) == false, the axis dimension of Input(Label) should be 1.\n",
    "  [Hint: Expected labels_dims[axis] == 1UL, but received labels_dims[axis]:3 != 1UL:1.] (at /paddle/paddle/phi/infermeta/binary.cc:937)\n",
    "```\n",
    "**SOLUTION1：** 通过以下代码转换成灰度标注图。 "
   ]
  },
  {
   "cell_type": "code",
   "execution_count": null,
   "metadata": {
    "scrolled": true,
    "tags": []
   },
   "outputs": [],
   "source": [
    "import os\n",
    "import numpy as np\n",
    "from PIL import Image\n",
    "from tqdm import tqdm\n",
    "\n",
    "Origin_SegmentationClass_path = \"/home/aistudio/PaddleSeg/data/data/labels\"\n",
    "Out_SegmentationClass_path = \"/home/aistudio/PaddleSeg/data/data/mask\"\n",
    "\n",
    "# 对应关系\n",
    "Origin_Point_Value = np.array([[0, 0, 0], [128, 0, 0]])\n",
    "Out_Point_Value = np.array([0, 1])\n",
    "\n",
    "if __name__ == \"__main__\":\n",
    "    if not os.path.exists(Out_SegmentationClass_path):\n",
    "        os.makedirs(Out_SegmentationClass_path)\n",
    "    #\n",
    "    png_names = os.listdir(Origin_SegmentationClass_path) # 获得图片的文件名\n",
    "    print(\"正在遍历全部标签。\")\n",
    "    for png_name in tqdm(png_names):\n",
    "        if png_name == \".ipynb_checkpoints\":\n",
    "            continue\n",
    "        png = Image.open(os.path.join(Origin_SegmentationClass_path, png_name)) # RGB\n",
    "        w, h = png.size\n",
    "        png = np.array(png, np.uint8) # h, w, c\n",
    "        out_png = np.zeros([h, w]) # 灰度 h, w\n",
    "\n",
    "        for map_idx, rgb in enumerate(Origin_Point_Value):\n",
    "            idx = np.where(\n",
    "                (png[..., 0] == rgb[0]) & (png[..., 1] == rgb[1]) & (png[..., 2] == rgb[2]))\n",
    "            out_png[idx] = map_idx\n",
    "\n",
    "        # print(\"out_png:\", out_png.shape)\n",
    "\n",
    "        out_png = Image.fromarray(np.array(out_png, np.uint8)) # 再次转化为Image进行保存\n",
    "        out_png.save(os.path.join(Out_SegmentationClass_path, png_name))\n",
    "\n",
    "\n",
    "    # 统计输出，各个像素点的值的个数\n",
    "    print(\"正在统计输出的图片每个像素点的数量。\")\n",
    "    classes_nums = np.zeros([256], np.int32)\n",
    "    for png_name in tqdm(png_names):\n",
    "        if png_name == \".ipynb_checkpoints\":\n",
    "            continue\n",
    "        png_file_name = os.path.join(Out_SegmentationClass_path, png_name)\n",
    "        if not os.path.exists(png_file_name):\n",
    "            raise ValueError(\"未检测到标签图片%s，请查看具体路径下文件是否存在以及后缀是否为png。\" % (png_file_name))\n",
    "\n",
    "        png = np.array(Image.open(png_file_name), np.uint8)\n",
    "        classes_nums += np.bincount(np.reshape(png, [-1]), minlength=256)\n",
    "\n",
    "    print(\"打印像素点的值与数量。\")\n",
    "    print('-' * 37)\n",
    "    print(\"| %15s | %15s |\" % (\"Key\", \"Value\"))\n",
    "    print('-' * 37)\n",
    "    for i in range(256):\n",
    "        if classes_nums[i] > 0:\n",
    "            print(\"| %15s | %15s |\" % (str(i), str(classes_nums[i])))\n",
    "            print('-' * 37)"
   ]
  },
  {
   "cell_type": "code",
   "execution_count": null,
   "metadata": {
    "scrolled": true,
    "tags": []
   },
   "outputs": [],
   "source": [
    "!python tools/data/split_dataset_list.py /home/aistudio/PaddleSeg/data/data images mask --split 0.85 0.15 0 --format png png"
   ]
  },
  {
   "cell_type": "code",
   "execution_count": null,
   "metadata": {
    "scrolled": true,
    "tags": []
   },
   "outputs": [],
   "source": [
    "!python tools/train.py \\\n",
    "       --config configs/ocrnet/ocrnet_hrnetw48_voc12aug_512x512_40k.yml \\\n",
    "       --do_eval \\\n",
    "       --use_vdl \\\n",
    "       --save_interval 100 \\\n",
    "       --save_dir output/ocrnet"
   ]
  },
  {
   "cell_type": "markdown",
   "metadata": {},
   "source": [
    "损失函数如图所示：\n",
    "\n",
    "![](https://ai-studio-static-online.cdn.bcebos.com/c7b274d92e324786b672bc7372ed844b0f8e19f233384654abc23ac2d9abb0e6)"
   ]
  },
  {
   "cell_type": "markdown",
   "metadata": {},
   "source": [
    "### 4.4 模型评估"
   ]
  },
  {
   "cell_type": "markdown",
   "metadata": {},
   "source": [
    "训练完成后，大家可以使用评估脚本tools/val.py来评估模型的精度，即对配置文件中的验证数据集进行测试。"
   ]
  },
  {
   "cell_type": "code",
   "execution_count": null,
   "metadata": {
    "scrolled": true,
    "tags": []
   },
   "outputs": [],
   "source": [
    "!python tools/val.py \\\n",
    "       --config configs/ocrnet/ocrnet_hrnetw48_voc12aug_512x512_40k.yml \\\n",
    "       --model_path output/ocrnet/best_model/model.pdparams"
   ]
  },
  {
   "cell_type": "markdown",
   "metadata": {},
   "source": [
    "* [EVAL] #Images: 18 mIoU: 0.9156 Acc: 0.9929 Kappa: 0.9085 Dice: 0.9542\n",
    "* [EVAL] Class IoU: [0.9926 0.8385]\n",
    "* [EVAL] Class Precision: [0.9956 0.9281]\n",
    "* [EVAL] Class Recall: [0.997  0.8968]"
   ]
  },
  {
   "cell_type": "markdown",
   "metadata": {},
   "source": [
    "### 4.5 模型预测"
   ]
  },
  {
   "cell_type": "markdown",
   "metadata": {},
   "source": [
    "我们可以通过tools/predict.py脚本是来进行可视化预测，命令格式如下所示。"
   ]
  },
  {
   "cell_type": "code",
   "execution_count": null,
   "metadata": {
    "scrolled": true,
    "tags": []
   },
   "outputs": [],
   "source": [
    "!python tools/predict.py \\\n",
    "       --config configs/ocrnet/ocrnet_hrnetw48_voc12aug_512x512_40k.yml \\\n",
    "       --model_path output/ocrnet/best_model/model.pdparams \\\n",
    "       --image_path data/data/images \\\n",
    "       --save_dir output/result"
   ]
  },
  {
   "cell_type": "markdown",
   "metadata": {},
   "source": [
    "整体的检测效果是非常不错的，部分可视化结果如下："
   ]
  },
  {
   "cell_type": "markdown",
   "metadata": {},
   "source": [
    "![](https://ai-studio-static-online.cdn.bcebos.com/f3fdf4ce2c994c1584e8a1c1f7b775caefb0cf437bab4a98ae5de8fab8b5c4e6)"
   ]
  },
  {
   "cell_type": "markdown",
   "metadata": {},
   "source": [
    "### 4.6 模型导出"
   ]
  },
  {
   "cell_type": "markdown",
   "metadata": {},
   "source": [
    "执行如下命令，导出预测模型，保存在output/inference_model目录。"
   ]
  },
  {
   "cell_type": "code",
   "execution_count": null,
   "metadata": {
    "scrolled": true,
    "tags": []
   },
   "outputs": [],
   "source": [
    "!python tools/export.py \\\n",
    "       --config configs/ocrnet/ocrnet_hrnetw48_voc12aug_512x512_40k.yml \\\n",
    "       --model_path output/ocrnet/best_model/model.pdparams \\\n",
    "       --save_dir output/inference_model"
   ]
  },
  {
   "cell_type": "markdown",
   "metadata": {},
   "source": [
    "### 4.7 Paddle-Inference-demo"
   ]
  },
  {
   "cell_type": "markdown",
   "metadata": {},
   "source": [
    "1. 引用 paddle inference 推理库"
   ]
  },
  {
   "cell_type": "code",
   "execution_count": null,
   "metadata": {
    "scrolled": true,
    "tags": []
   },
   "outputs": [],
   "source": [
    "import paddle.inference as paddle_infer\n",
    "import cv2\n",
    "import numpy as np"
   ]
  },
  {
   "cell_type": "markdown",
   "metadata": {},
   "source": [
    "2. 创建配置对象"
   ]
  },
  {
   "cell_type": "code",
   "execution_count": null,
   "metadata": {
    "scrolled": true,
    "tags": []
   },
   "outputs": [],
   "source": [
    "# 创建 config，并设置推理模型路径\n",
    "config = paddle_infer.Config(\"/home/aistudio/PaddleSeg/output/inference_model/model.pdmodel\", \"/home/aistudio/PaddleSeg/output/inference_model/model.pdiparams\")"
   ]
  },
  {
   "cell_type": "markdown",
   "metadata": {},
   "source": [
    "3. 根据Config创建推理对象"
   ]
  },
  {
   "cell_type": "code",
   "execution_count": null,
   "metadata": {
    "scrolled": true,
    "tags": []
   },
   "outputs": [],
   "source": [
    "predictor = paddle_infer.create_predictor(config)"
   ]
  },
  {
   "cell_type": "markdown",
   "metadata": {},
   "source": [
    "4. 设置模型输入 Tensor"
   ]
  },
  {
   "cell_type": "code",
   "execution_count": 4,
   "metadata": {
    "execution": {
     "iopub.execute_input": "2023-03-23T06:42:30.124270Z",
     "iopub.status.busy": "2023-03-23T06:42:30.123497Z",
     "iopub.status.idle": "2023-03-23T06:42:30.130536Z",
     "shell.execute_reply": "2023-03-23T06:42:30.129749Z",
     "shell.execute_reply.started": "2023-03-23T06:42:30.124231Z"
    },
    "scrolled": true
   },
   "outputs": [],
   "source": [
    "def normalize(img, mean, std):\n",
    "    img = img / 255.0\n",
    "    mean = np.array(mean)[np.newaxis, np.newaxis, :]\n",
    "    std = np.array(std)[np.newaxis, np.newaxis, :]\n",
    "    img -= mean\n",
    "    img /= std\n",
    "    return img\n",
    "\n",
    "\n",
    "def preprocess(img, img_size):\n",
    "    mean = [0.5, 0.5, 0.5]\n",
    "    std = [0.5, 0.5, 0.5]\n",
    "    img = cv2.resize(img, (img_size[0], img_size[1]))\n",
    "    img = img[:, :, ::-1].astype('float32')  # bgr -> rgb\n",
    "    img = normalize(img, mean, std)\n",
    "    img = img.transpose((2, 0, 1))  # hwc -> chw\n",
    "    return img[np.newaxis, :]"
   ]
  },
  {
   "cell_type": "code",
   "execution_count": null,
   "metadata": {
    "scrolled": true,
    "tags": []
   },
   "outputs": [],
   "source": [
    "# 设置输入\n",
    "img = cv2.imread(\"/home/aistudio/PaddleSeg/data/data/images/IMG_4676.png\")\n",
    "print(img.shape)\n",
    "im_shape = img.shape\n",
    "im_size = [512, 512]\n",
    "data = preprocess(img, im_size)\n",
    "\n",
    "# 获取输入的名称\n",
    "input_names = predictor.get_input_names()\n",
    "input_tensor = predictor.get_input_handle(input_names[0])\n",
    "input_tensor.reshape(img.shape)\n",
    "input_tensor.copy_from_cpu(data.copy())"
   ]
  },
  {
   "cell_type": "markdown",
   "metadata": {},
   "source": [
    "5. 执行推理"
   ]
  },
  {
   "cell_type": "code",
   "execution_count": null,
   "metadata": {
    "scrolled": true,
    "tags": []
   },
   "outputs": [],
   "source": [
    "predictor.run()"
   ]
  },
  {
   "cell_type": "markdown",
   "metadata": {},
   "source": [
    " 6. 获得推理结果"
   ]
  },
  {
   "cell_type": "code",
   "execution_count": 11,
   "metadata": {
    "execution": {
     "iopub.execute_input": "2023-03-23T06:45:42.083442Z",
     "iopub.status.busy": "2023-03-23T06:45:42.082416Z",
     "iopub.status.idle": "2023-03-23T06:45:42.091836Z",
     "shell.execute_reply": "2023-03-23T06:45:42.090855Z",
     "shell.execute_reply.started": "2023-03-23T06:45:42.083398Z"
    },
    "scrolled": true
   },
   "outputs": [],
   "source": [
    "COLORMAP = np.array([[28, 28, 28], [238, 44, 44]])\n",
    "\n",
    "def segmentation_map_to_image(result, colormap, remove_holes=False):\n",
    "    \"\"\"\n",
    "    可视化输出特征图\n",
    "    :param result: 分割模型的输出特征图\n",
    "    :param colormap: 类别到颜色的映射关系 class i -> COLORMAP[i]\n",
    "    :param remove_holes: True->去除输出特征图中的空洞\n",
    "    :return: 可视化后的RGB图像\n",
    "    \"\"\"\n",
    "    if len(result.shape) != 2 and result.shape[0] != 1:\n",
    "        raise ValueError(\n",
    "            f\"Expected result with shape (H,W) or (1,H,W), got result with shape {result.shape}\"\n",
    "        )\n",
    "\n",
    "    if len(np.unique(result)) > colormap.shape[0]:\n",
    "        raise ValueError(\n",
    "            f\"Expected max {colormap[0]} classes in result, got {len(np.unique(result))} \"\n",
    "            \"different output values. Please make sure to convert the network output to \"\n",
    "            \"pixel values before calling this function.\"\n",
    "        )\n",
    "    elif result.shape[0] == 1:\n",
    "        result = result.squeeze(0)\n",
    "\n",
    "    result = result.astype(np.uint8)\n",
    "\n",
    "    contour_mode = cv2.RETR_EXTERNAL if remove_holes else cv2.RETR_TREE\n",
    "    mask = np.zeros((result.shape[0], result.shape[1], 3), dtype=np.uint8)\n",
    "    for label_index, color in enumerate(colormap):\n",
    "        label_index_map = result == label_index\n",
    "        label_index_map = label_index_map.astype(np.uint8) * 255\n",
    "        contours, hierarchies = cv2.findContours(\n",
    "            label_index_map, contour_mode, cv2.CHAIN_APPROX_SIMPLE\n",
    "        )\n",
    "        cv2.drawContours(\n",
    "            mask,\n",
    "            contours,\n",
    "            contourIdx=-1,\n",
    "            color=color.tolist(),\n",
    "            thickness=cv2.FILLED,\n",
    "        )\n",
    "\n",
    "    return mask"
   ]
  },
  {
   "cell_type": "code",
   "execution_count": null,
   "metadata": {
    "scrolled": true,
    "tags": []
   },
   "outputs": [],
   "source": [
    "output_names = predictor.get_output_names()\n",
    "output_tensor = predictor.get_output_handle(output_names[0])\n",
    "output_data = output_tensor.copy_to_cpu()\n",
    "output_mask = segmentation_map_to_image(output_data, COLORMAP)\n",
    "output_mask = cv2.resize(output_mask, (im_shape[1], im_shape[0]))\n",
    "cv2.imwrite(\"/home/aistudio/work/output.jpg\", output_mask)\n",
    "print(output_mask.shape)"
   ]
  },
  {
   "cell_type": "markdown",
   "metadata": {},
   "source": [
    "可视化结果如下：\n",
    "\n",
    "![](https://ai-studio-static-online.cdn.bcebos.com/dbd071ee2d254624bd07c6ffa965cb7f6dd5c28b00cf4556817c95781d8c0927)"
   ]
  },
  {
   "cell_type": "markdown",
   "metadata": {},
   "source": [
    "## 五、总结提高"
   ]
  },
  {
   "cell_type": "markdown",
   "metadata": {},
   "source": [
    "本项目任务是使用OCRNet去实现鸽子分割的任务，整体上来说任务是相对较简单的，能够达到91.56%的mIoU，大家可能遇到的问题是训练的过程比较漫长。\n",
    "\n",
    "另外本项目任务还给大家提供了一个简单的Paddle-Inference-Demo供大家参考。\n",
    "\n",
    "还可能改进的几个点：\n",
    "1. 数据集较少，大家时间充裕的话可以再搜集一些鸽子的图片，标注好后加入进来一起训练。\n",
    "2. 使用轻量化的网络看是否能够在不损失太多精度的情况下，实现更低的推理延时。"
   ]
  },
  {
   "cell_type": "markdown",
   "metadata": {},
   "source": [
    "作者简介：Submerge. 江苏某大学大三学生 人工智能专业 [主页链接](https://aistudio.baidu.com/aistudio/personalcenter/thirdview/2365489) 欢迎互关！\n",
    "\n",
    "飞桨导师：刘建建 [JavaRoom](https://aistudio.baidu.com/aistudio/personalcenter/thirdview/89263) 在此感谢。"
   ]
  }
 ],
 "metadata": {
  "kernelspec": {
   "display_name": "Python 3",
   "language": "python",
   "name": "py35-paddle1.2.0"
  },
  "language_info": {
   "codemirror_mode": {
    "name": "ipython",
    "version": 3
   },
   "file_extension": ".py",
   "mimetype": "text/x-python",
   "name": "python",
   "nbconvert_exporter": "python",
   "pygments_lexer": "ipython3",
   "version": "3.7.4"
  }
 },
 "nbformat": 4,
 "nbformat_minor": 4
}
